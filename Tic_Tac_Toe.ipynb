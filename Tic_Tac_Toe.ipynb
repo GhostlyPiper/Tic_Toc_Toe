{
 "cells": [
  {
   "cell_type": "markdown",
   "id": "1f008828-8684-47a6-8030-c603e7604e40",
   "metadata": {
    "tags": []
   },
   "source": [
    "### Назначим константы значений символов для игроков"
   ]
  },
  {
   "cell_type": "code",
   "execution_count": 1,
   "id": "7761f3b8-4eb8-433b-8613-dc12790a76ec",
   "metadata": {},
   "outputs": [],
   "source": [
    "USER_1 = 'X'\n",
    "USER_2 = '0'"
   ]
  },
  {
   "cell_type": "markdown",
   "id": "82d368e8-0360-42ce-912a-5b17b4ed28f7",
   "metadata": {},
   "source": [
    "### Вступительное приветсвие с объяснением принципа ввода."
   ]
  },
  {
   "cell_type": "code",
   "execution_count": 2,
   "id": "8168e31f-5d75-40fc-a9f2-92753819ffb8",
   "metadata": {},
   "outputs": [
    {
     "name": "stdout",
     "output_type": "stream",
     "text": [
      "----------------------\n",
      "|  Приветствуем Вас  |\n",
      "|       в игре       |\n",
      "|  крестики и нолики |\n",
      "|--------------------|\n",
      "| формат ввода: х у  |\n",
      "| х - номер строки   |\n",
      "| у - номер столбца  |\n",
      "----------------------\n"
     ]
    }
   ],
   "source": [
    "def greet():\n",
    "    \"\"\"\n",
    "    Эта функция выводит табло приветствия при заходе в игру.\n",
    "    \"\"\"\n",
    "\n",
    "    print(\"----------------------\")\n",
    "    print(\"|  Приветствуем Вас  |\")\n",
    "    print(\"|       в игре       |\")\n",
    "    print(\"|  крестики и нолики |\")\n",
    "    print(\"|--------------------|\")\n",
    "    print(\"| формат ввода: х у  |\")\n",
    "    print(\"| х - номер строки   |\")\n",
    "    print(\"| у - номер столбца  |\")\n",
    "    print(\"----------------------\")\n",
    "    \n",
    "\n",
    "greet()"
   ]
  },
  {
   "cell_type": "markdown",
   "id": "9793c3ae-ac1b-4692-b3c3-170db26e6f49",
   "metadata": {},
   "source": [
    "### Создадим игровое поле"
   ]
  },
  {
   "cell_type": "code",
   "execution_count": 3,
   "id": "b4f52213-70dd-4cf5-a540-8046f3aa30d3",
   "metadata": {},
   "outputs": [
    {
     "data": {
      "text/plain": [
       "[[' ', ' ', ' '], [' ', ' ', ' '], [' ', ' ', ' ']]"
      ]
     },
     "execution_count": 3,
     "metadata": {},
     "output_type": "execute_result"
    }
   ],
   "source": [
    "field = [[\" \"] * 3 for i in range(3)]\n",
    "field"
   ]
  },
  {
   "cell_type": "markdown",
   "id": "68c9022f-28ed-4d86-8f19-b74c3abab87e",
   "metadata": {},
   "source": [
    "### Сделаем красивый вывод игрового поля"
   ]
  },
  {
   "cell_type": "code",
   "execution_count": 4,
   "id": "f077fd4d-c09f-42ce-8ea3-1dff4396d894",
   "metadata": {},
   "outputs": [
    {
     "name": "stdout",
     "output_type": "stream",
     "text": [
      "\n",
      "   | 0 | 1 | 2 | \n",
      " --------------- \n",
      " 0 |   |   |   | \n",
      " --------------- \n",
      " 1 |   |   |   | \n",
      " --------------- \n",
      " 2 |   |   |   | \n",
      " --------------- \n",
      "\n"
     ]
    }
   ],
   "source": [
    "def show():\n",
    "    \"\"\"\n",
    "    Эта функция формирует вид игрового поля.\n",
    "    \"\"\"\n",
    "\n",
    "    print()\n",
    "    print(\"   | 0 | 1 | 2 | \")\n",
    "    print(\" --------------- \")\n",
    "    for i, row in enumerate(field):\n",
    "        row_str = f\" {i} | {' | '.join(map(str, row))} | \"\n",
    "        print(row_str)\n",
    "        print(\" --------------- \")\n",
    "    print()\n",
    "    \n",
    "    \n",
    "show()\n",
    "        "
   ]
  },
  {
   "cell_type": "markdown",
   "id": "862e1d2f-e930-46da-b240-018f8299761e",
   "metadata": {
    "tags": []
   },
   "source": [
    "### Запрашиваем координаты хода у пользователя\n",
    "#### + Делаем проверки ввода на корректность ввода и незанятость позиции.\n",
    "для красоты используем форматирование текста вывода ошибок красным."
   ]
  },
  {
   "cell_type": "code",
   "execution_count": 16,
   "id": "af90bfa9-056f-40a6-aba2-430ba8fadb60",
   "metadata": {},
   "outputs": [
    {
     "name": "stdin",
     "output_type": "stream",
     "text": [
      "            Ваш ход:  4 5\n"
     ]
    },
    {
     "name": "stdout",
     "output_type": "stream",
     "text": [
      "\u001b[1;31m Координаты вне диапазона! \u001b[0m\n"
     ]
    },
    {
     "name": "stdin",
     "output_type": "stream",
     "text": [
      "            Ваш ход:  p j\n"
     ]
    },
    {
     "name": "stdout",
     "output_type": "stream",
     "text": [
      "\u001b[1;31m Введите числа! \u001b[0m\n"
     ]
    },
    {
     "name": "stdin",
     "output_type": "stream",
     "text": [
      "            Ваш ход:  1 2\n"
     ]
    },
    {
     "data": {
      "text/plain": [
       "(1, 2)"
      ]
     },
     "execution_count": 16,
     "metadata": {},
     "output_type": "execute_result"
    }
   ],
   "source": [
    "def ask():\n",
    "    \"\"\"\n",
    "    Эта функция запрашивает у пользователя координаты хода,\n",
    "    а потом делает проверки на корректность вводимых данных и\n",
    "    отсутствие в данной точке ранее поставленного символа.\n",
    "    \"\"\"\n",
    "\n",
    "    while True:\n",
    "        cords = input(\"            Ваш ход: \").split()\n",
    "\n",
    "        if len(cords) != 2:\n",
    "            print(\"\\033[1;31m Введите 2 координаты! \\033[0m\")\n",
    "            continue\n",
    "\n",
    "        x, y = cords\n",
    "\n",
    "        if not(x.isdigit()) or not(y.isdigit()):\n",
    "            print(\"\\033[1;31m Введите числа! \\033[0m\")\n",
    "            continue\n",
    "\n",
    "        x, y = int(x), int(y)\n",
    "\n",
    "        if 0 > x or x > 2 or 0 > y or y > 2:\n",
    "            print(\"\\033[1;31m Координаты вне диапазона! \\033[0m\")\n",
    "            continue\n",
    "\n",
    "        if field[x][y] != \" \":\n",
    "            print(\"\\033[1;31m Клетка занята! \\033[0m\")\n",
    "            continue\n",
    "\n",
    "        return x, y\n",
    "\n",
    "\n",
    "ask()"
   ]
  },
  {
   "cell_type": "markdown",
   "id": "3f9f8b2d-b043-4006-8c02-83f365ed48df",
   "metadata": {},
   "source": [
    " #### Сделаем удобную функцию да / нет"
   ]
  },
  {
   "cell_type": "code",
   "execution_count": 10,
   "id": "c8a8dfff-6afe-4775-ab4a-3dee875b7789",
   "metadata": {},
   "outputs": [
    {
     "name": "stdin",
     "output_type": "stream",
     "text": [
      "Введите Y для ... или N для ... л\n",
      "Введите Y или N !!! е\n",
      "Введите Y или N !!! н\n"
     ]
    },
    {
     "data": {
      "text/plain": [
       "True"
      ]
     },
     "execution_count": 10,
     "metadata": {},
     "output_type": "execute_result"
    }
   ],
   "source": [
    "x = input(\"Введите Y для ... или N для ...\")\n",
    "\n",
    "\n",
    "def yes_no(x):\n",
    "    \"\"\"\n",
    "    Эта функция проверяет ввод пользователем 'Yes' или 'No'.\n",
    "    \"\"\"\n",
    "\n",
    "    while True:\n",
    "        yes_ = ('Y', 'y', 'Н', 'н')\n",
    "        no_ = ('N', 'n', 'Т', 'т')\n",
    "\n",
    "        if x not in yes_ and x not in no_:\n",
    "            x = input(\"Введите Y или N !!!\")\n",
    "            continue\n",
    "\n",
    "        if x in yes_:\n",
    "            return True\n",
    "\n",
    "        if x in no_:\n",
    "            return False\n",
    "\n",
    "        \n",
    "yes_no(x)"
   ]
  },
  {
   "cell_type": "markdown",
   "id": "a2461cd3-91d9-4204-bf9e-0862f33b2c10",
   "metadata": {},
   "source": [
    "### Функция запуска игры"
   ]
  },
  {
   "cell_type": "code",
   "execution_count": 11,
   "id": "26e73b9d-2e99-4c2b-a6f7-0372e8912a58",
   "metadata": {},
   "outputs": [
    {
     "name": "stdin",
     "output_type": "stream",
     "text": [
      "Нажмите - Y чтобы поиграть,     \n",
      "Нажмите - N для выхода.\n",
      "\u001b[1;32m Ваш выбор: \u001b[0m y\n"
     ]
    },
    {
     "data": {
      "text/plain": [
       "True"
      ]
     },
     "execution_count": 11,
     "metadata": {},
     "output_type": "execute_result"
    }
   ],
   "source": [
    "def start_stop():\n",
    "    \"\"\"\n",
    "    Эта функция запускает или завершает игру.\n",
    "    \"\"\"\n",
    "\n",
    "    ans = input(\"Нажмите - Y чтобы поиграть, \\\n",
    "    \\nНажмите - N для выхода.\\n\\033[1;32m Ваш выбор: \\033[0m\")\n",
    "\n",
    "    result = yes_no(ans)\n",
    "    return result\n",
    "\n",
    "\n",
    "start_stop()"
   ]
  },
  {
   "cell_type": "markdown",
   "id": "b5f80f23-2cff-4a70-bc59-012febc1f566",
   "metadata": {},
   "source": [
    "### Данная функция используется при реализации своеобразной фичы."
   ]
  },
  {
   "cell_type": "code",
   "execution_count": 14,
   "id": "237e3cee-1d41-437a-b7d1-a10a842df704",
   "metadata": {
    "tags": []
   },
   "outputs": [
    {
     "name": "stdin",
     "output_type": "stream",
     "text": [
      "Согласны с очевидным - Y,     \n",
      "есть желание убедиться - N \n",
      "\u001b[1;32m Ваш выбор: \u001b[0m н\n"
     ]
    },
    {
     "data": {
      "text/plain": [
       "True"
      ]
     },
     "execution_count": 14,
     "metadata": {},
     "output_type": "execute_result"
    }
   ],
   "source": [
    "def exit_no():\n",
    "    \"\"\"\n",
    "    Эта функция досрочно завершает игру при наступлении\n",
    "    определённых условий либо позволяет ей работать дальше.\n",
    "    \"\"\"\n",
    "\n",
    "    ans = input(str(\"Согласны с очевидным - Y, \\\n",
    "    \\nесть желание убедиться - N \\n\\033[1;32m Ваш выбор: \\033[0m\"))\n",
    "\n",
    "    result = yes_no(ans)\n",
    "    return result\n",
    "\n",
    "\n",
    "exit_no()"
   ]
  },
  {
   "cell_type": "markdown",
   "id": "f7394df3-0221-4f56-85d4-ecd77705ddd8",
   "metadata": {},
   "source": [
    "### Данную функцию используем для выбора новой партии либо выхода из игры."
   ]
  },
  {
   "cell_type": "code",
   "execution_count": 15,
   "id": "49bd1c4c-ab96-43a0-888e-d9d670a09d6c",
   "metadata": {},
   "outputs": [
    {
     "name": "stdin",
     "output_type": "stream",
     "text": [
      "\n",
      "Сыграем ещё партию - Y,     \n",
      "Для выхода из игры - N \n",
      "\u001b[1;32m Ваш выбор: \u001b[0m n\n"
     ]
    },
    {
     "data": {
      "text/plain": [
       "False"
      ]
     },
     "execution_count": 15,
     "metadata": {},
     "output_type": "execute_result"
    }
   ],
   "source": [
    "def return_game():\n",
    "    \"\"\"\n",
    "    Эта функция спрашивает у пользователя согласие\n",
    "    на новый раунд игры либо выход из неё.\n",
    "    \"\"\"\n",
    "\n",
    "    ans = input(str(\"\\nСыграем ещё партию - Y, \\\n",
    "    \\nДля выхода из игры - N \\n\\033[1;32m Ваш выбор: \\033[0m\"))\n",
    "\n",
    "    result = yes_no(ans)\n",
    "    return result\n",
    "\n",
    "\n",
    "return_game()"
   ]
  },
  {
   "cell_type": "markdown",
   "id": "6e650f81-bf18-4c9e-8e48-6d78c1bc3668",
   "metadata": {},
   "source": [
    "### Проверка выигрыша + та самая фича:\n",
    "Позволяет завершить игру на 7 ходу, не заполняя ячейки до девятого хода в виду\n",
    "очевидности ничейного исхода. (Кто-то много играл в крестики-нолики ;) ) Кто сомневается может продолжить игру и убедиться.\n",
    "Для реализации можно попробовать последовательность ходов:\n",
    "####    (1, 1)->(1, 0)->(0, 0)->(2, 2)->(2, 0)->(0, 2)->(1, 2).\n",
    "\n",
    "\n",
    "\n",
    "\n",
    "\n"
   ]
  },
  {
   "cell_type": "code",
   "execution_count": 18,
   "id": "e24204ea-63c8-446e-9ee5-8fc2b8493dc8",
   "metadata": {},
   "outputs": [
    {
     "data": {
      "text/plain": [
       "False"
      ]
     },
     "execution_count": 18,
     "metadata": {},
     "output_type": "execute_result"
    }
   ],
   "source": [
    "count = 7\n",
    "\n",
    "def check_win():\n",
    "    \"\"\"\n",
    "    Эта функция проверяет наличие выигрышной комбинации,\n",
    "    а так же реализует досрочное завершение игры на 7 ходу\n",
    "    в случае очевидного ничейного исхода.\n",
    "    \"\"\"\n",
    "\n",
    "    win_cord = (((0, 0), (0, 1), (0, 2)), ((1, 0), (1, 1), (1, 2)),\n",
    "                ((2, 0), (2, 1), (2, 2)), ((0, 2), (1, 1), (2, 0)),\n",
    "                ((0, 0), (1, 1), (2, 2)), ((0, 0), (1, 0), (2, 0)),\n",
    "                ((0, 1), (1, 1), (2, 1)), ((0, 2), (1, 2), (2, 2)))\n",
    "\n",
    "    mask = list()\n",
    "    q = 0\n",
    "    r = 0\n",
    "    for cord in win_cord:\n",
    "        symbols = []\n",
    "\n",
    "        for c in cord:\n",
    "            symbols.append(field[c[0]][c[1]])\n",
    "\n",
    "        if symbols == [USER_1, USER_1, USER_1]:\n",
    "            print(f\"\\033[1;33m Выиграл Игрок 1 '{USER_1}' !!! \\033[0m\")\n",
    "            return True\n",
    "\n",
    "        if symbols == [USER_2, USER_2, USER_2]:\n",
    "            print(f\"\\033[1;33m Выиграл Игрок 2 '{USER_2}' !!! \\033[0m\")\n",
    "            return True\n",
    "\n",
    "        if count == 7 and q == 3 and r < 2:\n",
    "            print(((\"\\033[1;31m В этой партии уже никто не выиграет - \"\n",
    "                    \"редкая комбинация вничью!!! \\033[0m\")))\n",
    "\n",
    "            a = exit_no()\n",
    "            return a\n",
    "\n",
    "        mask.extend([symbols])\n",
    "        \n",
    "        q = mask.count([USER_2, USER_1, USER_1]) \\\n",
    "            + mask.count([USER_1, USER_1, USER_2])\n",
    "        \n",
    "        r = mask.count([USER_1, USER_1, ' ']) + \\\n",
    "            mask.count([' ', USER_1, USER_1]) + \\\n",
    "            mask.count([' ', USER_2, USER_2]) + \\\n",
    "            mask.count([USER_2, USER_2, ' '])\n",
    "        \n",
    "    return False\n",
    "\n",
    "\n",
    "check_win()"
   ]
  },
  {
   "cell_type": "markdown",
   "id": "b52091e2-12d8-4f91-861f-b4da3ff5f1ef",
   "metadata": {},
   "source": [
    "#### Соберём вот это всё"
   ]
  },
  {
   "cell_type": "code",
   "execution_count": 21,
   "id": "e6c9f34b-7ade-45d3-b809-d607b7dae2d1",
   "metadata": {},
   "outputs": [
    {
     "name": "stdout",
     "output_type": "stream",
     "text": [
      "----------------------\n",
      "|  Приветствуем Вас  |\n",
      "|       в игре       |\n",
      "|  крестики и нолики |\n",
      "|--------------------|\n",
      "| формат ввода: х у  |\n",
      "| х - номер строки   |\n",
      "| у - номер столбца  |\n",
      "----------------------\n"
     ]
    },
    {
     "name": "stdin",
     "output_type": "stream",
     "text": [
      "Нажмите - Y чтобы поиграть,     \n",
      "Нажмите - N для выхода.\n",
      "\u001b[1;32m Ваш выбор: \u001b[0m y\n"
     ]
    },
    {
     "name": "stdout",
     "output_type": "stream",
     "text": [
      "\n",
      "   | 0 | 1 | 2 | \n",
      " --------------- \n",
      " 0 |   |   |   | \n",
      " --------------- \n",
      " 1 |   |   |   | \n",
      " --------------- \n",
      " 2 |   |   |   | \n",
      " --------------- \n",
      "\n",
      "\u001b[3;36m Ходит Игрок 1 - 'X' \u001b[0m\n"
     ]
    },
    {
     "name": "stdin",
     "output_type": "stream",
     "text": [
      "            Ваш ход:  1 1\n"
     ]
    },
    {
     "name": "stdout",
     "output_type": "stream",
     "text": [
      "\n",
      "   | 0 | 1 | 2 | \n",
      " --------------- \n",
      " 0 |   |   |   | \n",
      " --------------- \n",
      " 1 |   | X |   | \n",
      " --------------- \n",
      " 2 |   |   |   | \n",
      " --------------- \n",
      "\n",
      "\u001b[3;36m Ходит Игрок 2 - '0' \u001b[0m\n"
     ]
    },
    {
     "name": "stdin",
     "output_type": "stream",
     "text": [
      "            Ваш ход:  1 0\n"
     ]
    },
    {
     "name": "stdout",
     "output_type": "stream",
     "text": [
      "\n",
      "   | 0 | 1 | 2 | \n",
      " --------------- \n",
      " 0 |   |   |   | \n",
      " --------------- \n",
      " 1 | 0 | X |   | \n",
      " --------------- \n",
      " 2 |   |   |   | \n",
      " --------------- \n",
      "\n",
      "\u001b[3;36m Ходит Игрок 1 - 'X' \u001b[0m\n"
     ]
    },
    {
     "name": "stdin",
     "output_type": "stream",
     "text": [
      "            Ваш ход:  0 0\n"
     ]
    },
    {
     "name": "stdout",
     "output_type": "stream",
     "text": [
      "\n",
      "   | 0 | 1 | 2 | \n",
      " --------------- \n",
      " 0 | X |   |   | \n",
      " --------------- \n",
      " 1 | 0 | X |   | \n",
      " --------------- \n",
      " 2 |   |   |   | \n",
      " --------------- \n",
      "\n",
      "\u001b[3;36m Ходит Игрок 2 - '0' \u001b[0m\n"
     ]
    },
    {
     "name": "stdin",
     "output_type": "stream",
     "text": [
      "            Ваш ход:  2 2\n"
     ]
    },
    {
     "name": "stdout",
     "output_type": "stream",
     "text": [
      "\n",
      "   | 0 | 1 | 2 | \n",
      " --------------- \n",
      " 0 | X |   |   | \n",
      " --------------- \n",
      " 1 | 0 | X |   | \n",
      " --------------- \n",
      " 2 |   |   | 0 | \n",
      " --------------- \n",
      "\n",
      "\u001b[3;36m Ходит Игрок 1 - 'X' \u001b[0m\n"
     ]
    },
    {
     "name": "stdin",
     "output_type": "stream",
     "text": [
      "            Ваш ход:  2 0\n"
     ]
    },
    {
     "name": "stdout",
     "output_type": "stream",
     "text": [
      "\n",
      "   | 0 | 1 | 2 | \n",
      " --------------- \n",
      " 0 | X |   |   | \n",
      " --------------- \n",
      " 1 | 0 | X |   | \n",
      " --------------- \n",
      " 2 | X |   | 0 | \n",
      " --------------- \n",
      "\n",
      "\u001b[3;36m Ходит Игрок 2 - '0' \u001b[0m\n"
     ]
    },
    {
     "name": "stdin",
     "output_type": "stream",
     "text": [
      "            Ваш ход:  0 2\n"
     ]
    },
    {
     "name": "stdout",
     "output_type": "stream",
     "text": [
      "\n",
      "   | 0 | 1 | 2 | \n",
      " --------------- \n",
      " 0 | X |   | 0 | \n",
      " --------------- \n",
      " 1 | 0 | X |   | \n",
      " --------------- \n",
      " 2 | X |   | 0 | \n",
      " --------------- \n",
      "\n",
      "\u001b[3;36m Ходит Игрок 1 - 'X' \u001b[0m\n"
     ]
    },
    {
     "name": "stdin",
     "output_type": "stream",
     "text": [
      "            Ваш ход:  1 2\n"
     ]
    },
    {
     "name": "stdout",
     "output_type": "stream",
     "text": [
      "\u001b[1;31m В этой партии уже никто не выиграет - редкая комбинация вничью!!! \u001b[0m\n"
     ]
    },
    {
     "name": "stdin",
     "output_type": "stream",
     "text": [
      "Согласны с очевидным - Y,     \n",
      "есть желание убедиться - N \n",
      "\u001b[1;32m Ваш выбор: \u001b[0m y\n",
      "\n",
      "Сыграем ещё партию - Y,     \n",
      "Для выхода из игры - N \n",
      "\u001b[1;32m Ваш выбор: \u001b[0m n\n"
     ]
    }
   ],
   "source": [
    "greet()\n",
    "field = [[\" \"] * 3 for i in range(3)]\n",
    "count = 0\n",
    "key = start_stop()\n",
    "while key:\n",
    "\n",
    "    count += 1\n",
    "    show()\n",
    "    if count % 2 == 1:\n",
    "        print(f\"\\033[3;36m Ходит Игрок 1 - '{USER_1}' \\033[0m\")\n",
    "    else:\n",
    "        print(f\"\\033[3;36m Ходит Игрок 2 - '{USER_2}' \\033[0m\")\n",
    "\n",
    "    x, y = ask()\n",
    "\n",
    "    if count % 2 == 1:\n",
    "        field[x][y] = \"X\"\n",
    "    else:\n",
    "        field[x][y] = \"0\"\n",
    "\n",
    "    if check_win():\n",
    "        key = return_game()\n",
    "        field = [[\" \"] * 3 for i in range(3)]\n",
    "        count = 0\n",
    "        continue\n",
    "\n",
    "    if count == 9:\n",
    "        print(\"\\033[1;33m Ничья! \\033[0m\")\n",
    "        key = return_game()\n",
    "        field = [[\" \"] * 3 for i in range(3)]\n",
    "        count = 0\n",
    "        continue"
   ]
  },
  {
   "cell_type": "code",
   "execution_count": null,
   "id": "641f066a-3343-40f3-9456-4eff2b79f8c6",
   "metadata": {},
   "outputs": [],
   "source": []
  }
 ],
 "metadata": {
  "kernelspec": {
   "display_name": "Python 3 (ipykernel)",
   "language": "python",
   "name": "python3"
  },
  "language_info": {
   "codemirror_mode": {
    "name": "ipython",
    "version": 3
   },
   "file_extension": ".py",
   "mimetype": "text/x-python",
   "name": "python",
   "nbconvert_exporter": "python",
   "pygments_lexer": "ipython3",
   "version": "3.8.10"
  }
 },
 "nbformat": 4,
 "nbformat_minor": 5
}
